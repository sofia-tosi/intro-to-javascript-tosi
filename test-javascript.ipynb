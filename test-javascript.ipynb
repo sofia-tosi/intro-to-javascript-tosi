{
 "cells": [
  {
   "cell_type": "code",
   "execution_count": null,
   "metadata": {
    "vscode": {
     "languageId": "javascript"
    }
   },
   "outputs": [
    {
     "name": "stdout",
     "output_type": "stream",
     "text": [
      "Hello, World!\n"
     ]
    }
   ],
   "source": [
    "console.log('Hello, World!');"
   ]
  },
  {
   "attachments": {},
   "cell_type": "markdown",
   "metadata": {},
   "source": [
    "#### Esempio di come si comportano i tipi di dato primitivo"
   ]
  },
  {
   "attachments": {},
   "cell_type": "markdown",
   "metadata": {},
   "source": [
    "- console.log --> sout in Java\n",
    "- .slice --> prende solo la parte che mi interessa\n",
    "tipi:\n",
    "- let --> String"
   ]
  },
  {
   "cell_type": "code",
   "execution_count": null,
   "metadata": {
    "vscode": {
     "languageId": "javascript"
    }
   },
   "outputs": [
    {
     "name": "stdout",
     "output_type": "stream",
     "text": [
      "31\n",
      "30\n",
      "Hello\n",
      "Hell\n"
     ]
    }
   ],
   "source": [
    "{\n",
    "    let age = 30;\n",
    "    let age1 = age;\n",
    "    age = 31;\n",
    "    console.log(age);\n",
    "    console.log(age1);\n",
    "\n",
    "    let immutable = \"Hello\";\n",
    "    let copy = immutable.slice(0, 4);\n",
    "    console.log(immutable);\n",
    "    console.log(copy);\n",
    "}"
   ]
  },
  {
   "attachments": {},
   "cell_type": "markdown",
   "metadata": {},
   "source": [
    "- typeof --> indaga sui tipi (se ne faccio tanti di fila me ne fa vedere solo uno)\n",
    "- {} definiscono blocchi di codice o oggetti"
   ]
  },
  {
   "cell_type": "code",
   "execution_count": null,
   "metadata": {
    "vscode": {
     "languageId": "javascript"
    }
   },
   "outputs": [
    {
     "data": {
      "text/plain": [
       "\u001b[32m\"object\"\u001b[39m"
      ]
     },
     "execution_count": 19,
     "metadata": {},
     "output_type": "execute_result"
    }
   ],
   "source": [
    "typeof 123;\n",
    "typeof \"hello\";\n",
    "typeof true;\n",
    "typeof [];\n",
    "typeof {};"
   ]
  },
  {
   "cell_type": "code",
   "execution_count": null,
   "metadata": {
    "vscode": {
     "languageId": "javascript"
    }
   },
   "outputs": [],
   "source": [
    "let info ;{\n",
    "    Name:'ABC';\n",
    "    Age: 10\n",
    "};\n",
    "let info1 = info;\n",
    "info1.Age = 14;"
   ]
  },
  {
   "attachments": {},
   "cell_type": "markdown",
   "metadata": {},
   "source": [
    "- Il numero più grande = Number.MAX_VALUE\n",
    "- il numero più piccolo = Number.MIN_VALUE\n",
    "\n",
    "Esistono anche i valori Infinity e -Infinity\n"
   ]
  },
  {
   "cell_type": "code",
   "execution_count": null,
   "metadata": {
    "vscode": {
     "languageId": "javascript"
    }
   },
   "outputs": [],
   "source": [
    "console.log(0.1 + 0.2); //risultato che ci aspettiamo = 0.3\n",
    "console.log(0.1 + 0.2 == 0.3);  //false"
   ]
  },
  {
   "attachments": {},
   "cell_type": "markdown",
   "metadata": {},
   "source": [
    "trasforma i  numeri in numeri binari e poi fa la somma"
   ]
  },
  {
   "cell_type": "code",
   "execution_count": null,
   "metadata": {
    "vscode": {
     "languageId": "javascript"
    }
   },
   "outputs": [],
   "source": [
    "console.log(5 + '5');   //Output: \"55\" e non 10"
   ]
  },
  {
   "attachments": {},
   "cell_type": "markdown",
   "metadata": {},
   "source": [
    "si può fare la somma tra un numero ed una stringa, ma viene 55"
   ]
  },
  {
   "cell_type": "code",
   "execution_count": null,
   "metadata": {
    "vscode": {
     "languageId": "javascript"
    }
   },
   "outputs": [],
   "source": [
    "let myString = \"Hello, World!\";\n",
    "console.log(myString.toUpperCase());    //\"HELLO, WORLD!\"\n",
    "//Dietro le quinte, JavaScript fa qualcosa simile a:\n",
    "console.log(new String(myString).toUpperCase());\n",
    "\n",
    "let myNumber = 123.456;\n",
    "console.log(myNumber.toFixed(2));   //\"123.46\"\n",
    "//dietro le quinte...\n",
    "console.log(new Number(myNumber).toFixed(2));\n",
    "\n",
    "let myBool = true;\n",
    "console.log(myBool.toString());     //\"true\"\n",
    "//dietro le quinte...\n",
    "console.log(new Boolean(myBool).toString());"
   ]
  },
  {
   "attachments": {},
   "cell_type": "markdown",
   "metadata": {},
   "source": [
    "Valori Truthy e Falsy:\n",
    "trsformo i valori in booleani: se vengono trasformati in un valore vero diventano Truthy, se no Falsy.\n",
    "\n",
    "Valori Falsy:\n",
    "- 0 (numero zero)\n",
    "- \"\" (stringa vuota)\n",
    "- null\n",
    "- undefined\n",
    "- NaN\n",
    "\n",
    "Valori Truthy:\n",
    "- \"0\" (stringa con singolo carattere)\n",
    "- \" \" (stringa con spazio)\n",
    "- [] (array vuoto)\n",
    "- {} (oggetto vuoto)\n",
    "- 1 (numeri diversi da 0)\n",
    "\"false\" (stringhe non vuote)"
   ]
  },
  {
   "cell_type": "code",
   "execution_count": null,
   "metadata": {
    "vscode": {
     "languageId": "javascript"
    }
   },
   "outputs": [],
   "source": [
    "console.log(typeof [1, 2, 3]);      //\"object\"\n",
    "console.log(Array.isArray([1, 2, 3]));      //true"
   ]
  },
  {
   "attachments": {},
   "cell_type": "markdown",
   "metadata": {},
   "source": [
    "Array:\n",
    "sono oggetti con funzionalità specifiche:\n",
    "- lenght\n",
    "- push()\n",
    "- pop()\n",
    "\n",
    "    operatori tipici:\n",
    "- map() --> prende un valore della seguenza e prende una funzione che li passiamo e lo mette in un'altra seguenza (vedi su drive)\n",
    "- filter()\n",
    "- reduce() --> riduce una sequenza ad un valore (es. quando devo fare una media)\n",
    "- slice()\n",
    "\n",
    "Syntactic Sugar:\n",
    "array dichiarati con []:\n",
    "- let myArray = [1, 2, 3];\n",
    "- let myArray = new Array(1, 2, 3);"
   ]
  },
  {
   "cell_type": "code",
   "execution_count": null,
   "metadata": {
    "vscode": {
     "languageId": "javascript"
    }
   },
   "outputs": [],
   "source": [
    "let arr = [1, 2, 3, 4, 5];\n",
    "console.log(arr.length);    //outyput: 5"
   ]
  },
  {
   "attachments": {},
   "cell_type": "markdown",
   "metadata": {},
   "source": []
  },
  {
   "attachments": {},
   "cell_type": "markdown",
   "metadata": {},
   "source": [
    "Funzioni Lamda (Arrow)"
   ]
  },
  {
   "cell_type": "code",
   "execution_count": null,
   "metadata": {
    "vscode": {
     "languageId": "javascript"
    }
   },
   "outputs": [],
   "source": [
    "let arr = [1, 2, 3, 4, 5];\n",
    "let squares = arr.map(x => x*x);\n",
    "console.log(squares);   //output: [2, 4]"
   ]
  },
  {
   "attachments": {},
   "cell_type": "markdown",
   "metadata": {},
   "source": [
    "per ora(27/02) --> argomenti fino a pag 16:\n",
    "- MIN/MAX_VALUE, MIN/MAX_SAFE_INTEGER(senza perdita) e 0,1 + 0,2 != 0,3\n",
    "- "
   ]
  },
  {
   "attachments": {},
   "cell_type": "markdown",
   "metadata": {},
   "source": [
    "pag 10 --> rappresentazione mantissa\n",
    "numeri con esponente"
   ]
  },
  {
   "attachments": {},
   "cell_type": "markdown",
   "metadata": {},
   "source": [
    "confronto con l'uguale (=):\n",
    "- doppio(==) --> provoca la type coercion\n",
    "- triplo(===) --> non lo provoca\n",
    "tipizzazione dinamica (in JavaScript): una variabile prende il tipo della variabile che gli viene segnata. Se lo si cambia non c'è problema.\n",
    "Type coercion: se sommo la Stringa \"1\" + 1;"
   ]
  },
  {
   "cell_type": "code",
   "execution_count": null,
   "metadata": {
    "vscode": {
     "languageId": "javascript"
    }
   },
   "outputs": [],
   "source": [
    "let numbers = [1, 2, 3, 4, 5];\n",
    "//usare reduce per sommare tutti gli elementi\n",
    "let sum = numbers.reduce((accumulator, currentValue) => accumulator + currentValue, 0);\n",
    "console.log(sum);   //output 15"
   ]
  },
  {
   "attachments": {},
   "cell_type": "markdown",
   "metadata": {},
   "source": [
    "# Funzioni in JavaScript\n",
    "le funzioni in JS sono oggetti di prima classe, cioè possono essere passate come argomenti, assegnate a variabili e restituite da altre funzioni.\n",
    "\n",
    "Esistono due modi per definire una funzione in JS:\n",
    "\n",
    "- Dichiarazione/Istruzione di funzione\n",
    "- Espressione di funzione   (due modi)\n",
    "\n",
    "## dichiarazione di funzione\n"
   ]
  },
  {
   "cell_type": "code",
   "execution_count": null,
   "metadata": {
    "vscode": {
     "languageId": "javascript"
    }
   },
   "outputs": [],
   "source": [
    "javascript\n",
    "function nomeFunzione(parametro1, parametro2) {\n",
    "    return a + b;\n",
    "}\n",
    "function add(a: Number, b: Number): Number {\n",
    "    return a+b;\n",
    "}"
   ]
  },
  {
   "cell_type": "code",
   "execution_count": null,
   "metadata": {
    "vscode": {
     "languageId": "javascript"
    }
   },
   "outputs": [],
   "source": [
    "//Arrow function\n",
    "const nomeFunzione = (parametro1, parametro2) => {\n",
    "    return valoreDiRitorno;\n",
    "}\n",
    "\n",
    "const nomeFunzione = parametro => espressioneDiRitorno;"
   ]
  }
 ],
 "metadata": {
  "kernelspec": {
   "display_name": "base",
   "language": "python",
   "name": "python3"
  },
  "language_info": {
   "codemirror_mode": {
    "name": "ipython",
    "version": 3
   },
   "file_extension": ".py",
   "mimetype": "text/x-python",
   "name": "python",
   "nbconvert_exporter": "python",
   "pygments_lexer": "ipython3",
   "version": "3.10.9"
  }
 },
 "nbformat": 4,
 "nbformat_minor": 4
}
