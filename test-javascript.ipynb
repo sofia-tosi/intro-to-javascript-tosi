{
 "cells": [
  {
   "cell_type": "code",
   "execution_count": 14,
   "metadata": {},
   "outputs": [
    {
     "name": "stdout",
     "output_type": "stream",
     "text": [
      "Hello, World!\n"
     ]
    }
   ],
   "source": [
    "console.log('Hello, World!');"
   ]
  },
  {
   "attachments": {},
   "cell_type": "markdown",
   "metadata": {},
   "source": [
    "#### Esempio di come si comportano i tipi di dato primitivo"
   ]
  },
  {
   "attachments": {},
   "cell_type": "markdown",
   "metadata": {},
   "source": [
    "- console.log --> sout in Java\n",
    "- .slice --> prende solo la parte che mi interessa\n",
    "tipi:\n",
    "- let --> String"
   ]
  },
  {
   "cell_type": "code",
   "execution_count": 15,
   "metadata": {},
   "outputs": [
    {
     "name": "stdout",
     "output_type": "stream",
     "text": [
      "31\n",
      "30\n",
      "Hello\n",
      "Hell\n"
     ]
    }
   ],
   "source": [
    "{\n",
    "    let age = 30;\n",
    "    let age1 = age;\n",
    "    age = 31;\n",
    "    console.log(age);\n",
    "    console.log(age1);\n",
    "\n",
    "    let immutable = \"Hello\";\n",
    "    let copy = immutable.slice(0, 4);\n",
    "    console.log(immutable);\n",
    "    console.log(copy);\n",
    "}"
   ]
  },
  {
   "attachments": {},
   "cell_type": "markdown",
   "metadata": {},
   "source": [
    "- typeof --> indaga sui tipi (se ne faccio tanti di fila me ne fa vedere solo uno)\n",
    "- {} definiscono blocchi di codice o oggetti"
   ]
  },
  {
   "cell_type": "code",
   "execution_count": 19,
   "metadata": {},
   "outputs": [
    {
     "data": {
      "text/plain": [
       "\u001b[32m\"object\"\u001b[39m"
      ]
     },
     "execution_count": 19,
     "metadata": {},
     "output_type": "execute_result"
    }
   ],
   "source": [
    "typeof 123;\n",
    "typeof \"hello\";\n",
    "typeof true;\n",
    "typeof [];\n",
    "typeof {};"
   ]
  },
  {
   "cell_type": "code",
   "execution_count": null,
   "metadata": {},
   "outputs": [],
   "source": [
    "let info ;{\n",
    "    Name:'ABC';\n",
    "    Age: 10\n",
    "};\n",
    "let info1 = info;\n",
    "info1.Age = 14;"
   ]
  },
  {
   "attachments": {},
   "cell_type": "markdown",
   "metadata": {},
   "source": [
    "- Il numero più grande = Number.MAX_VALUE\n",
    "- il numero più piccolo = Number.MIN_VALUE\n",
    "\n",
    "Esistono anche i valori Infinity e -Infinity\n"
   ]
  },
  {
   "cell_type": "code",
   "execution_count": null,
   "metadata": {},
   "outputs": [],
   "source": [
    "console.log(0.1 + 0.2); //risultato che ci aspettiamo = 0.3\n",
    "console.log(0.1 + 0.2 == 0.3);  //false"
   ]
  },
  {
   "attachments": {},
   "cell_type": "markdown",
   "metadata": {},
   "source": [
    "trasforma i  numeri in numeri binari e poi fa la somma"
   ]
  },
  {
   "cell_type": "code",
   "execution_count": null,
   "metadata": {},
   "outputs": [],
   "source": [
    "console.log(5 + '5');   //Output: \"55\" e non 10"
   ]
  },
  {
   "attachments": {},
   "cell_type": "markdown",
   "metadata": {},
   "source": [
    "si può fare la somma tra un numero ed una stringa, ma viene 55"
   ]
  },
  {
   "attachments": {},
   "cell_type": "markdown",
   "metadata": {},
   "source": [
    "Valori Truthy e Falsy:\n",
    "trsformo i valori in booleani: se vengono trasformati in un valore vero diventano Truthy, se no Falsy.\n",
    "\n",
    "Valori Falsy:\n",
    "- 0 (numero zero)\n",
    "- \"\" (stringa vuota)\n",
    "- null\n",
    "- undefined\n",
    "- NaN\n",
    "\n",
    "Valori Truthy:\n",
    "- \"0\" (stringa con singolo carattere)\n",
    "- \" \" (stringa con spazio)\n",
    "- [] (array vuoto)\n",
    "- {} (oggetto vuoto)\n",
    "- 1 (numeri diversi da 0)\n",
    "\"false\" (stringhe non vuote)"
   ]
  },
  {
   "cell_type": "code",
   "execution_count": null,
   "metadata": {},
   "outputs": [],
   "source": [
    "console.log(typeof [1, 2, 3]);      //\"object\"\n",
    "console.log(Array.isArray([1, 2, 3]));      //true"
   ]
  },
  {
   "attachments": {},
   "cell_type": "markdown",
   "metadata": {},
   "source": [
    "Array:\n",
    "sono oggetti con funzionalità specifiche:\n",
    "- lenght\n",
    "- push()\n",
    "- pop()\n",
    "- map()\n",
    "- filter()\n",
    "- reduce()\n",
    "- slice()\n",
    "\n",
    "Syntactic Sugar:\n",
    "array dichiarati con []:\n",
    "- let myArray = [1, 2, 3];\n",
    "- let myArray = new Array(1, 2, 3);"
   ]
  },
  {
   "cell_type": "code",
   "execution_count": null,
   "metadata": {},
   "outputs": [],
   "source": [
    "let arr = [1, 2, 3, 4, 5];\n",
    "console.log(arr.length);    //outyput: 5"
   ]
  }
 ],
 "metadata": {
  "kernelspec": {
   "display_name": "Deno",
   "language": "typescript",
   "name": "deno"
  },
  "language_info": {
   "file_extension": ".ts",
   "mimetype": "text/x.typescript",
   "name": "typescript",
   "nb_converter": "script",
   "pygments_lexer": "typescript",
   "version": "5.3.3"
  }
 },
 "nbformat": 4,
 "nbformat_minor": 4
}
