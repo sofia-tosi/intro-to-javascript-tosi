{
 "cells": [
  {
   "cell_type": "code",
   "execution_count": 14,
   "metadata": {},
   "outputs": [
    {
     "name": "stdout",
     "output_type": "stream",
     "text": [
      "Hello, World!\n"
     ]
    }
   ],
   "source": [
    "console.log('Hello, World!');"
   ]
  },
  {
   "attachments": {},
   "cell_type": "markdown",
   "metadata": {},
   "source": [
    "#### Esempio di come si comportano i tipi di dato primitivo"
   ]
  },
  {
   "attachments": {},
   "cell_type": "markdown",
   "metadata": {},
   "source": [
    "- console.log --> sout in Java\n",
    "- .slice --> prende solo la parte che mi interessa"
   ]
  },
  {
   "cell_type": "code",
   "execution_count": 15,
   "metadata": {},
   "outputs": [
    {
     "name": "stdout",
     "output_type": "stream",
     "text": [
      "31\n",
      "30\n",
      "Hello\n",
      "Hell\n"
     ]
    }
   ],
   "source": [
    "{\n",
    "    let age = 30;\n",
    "    let age1 = age;\n",
    "    age = 31;\n",
    "    console.log(age);\n",
    "    console.log(age1);\n",
    "\n",
    "    let immutable = \"Hello\";\n",
    "    let copy = immutable.slice(0, 4);\n",
    "    console.log(immutable);\n",
    "    console.log(copy);\n",
    "}"
   ]
  },
  {
   "attachments": {},
   "cell_type": "markdown",
   "metadata": {},
   "source": [
    "- typeof --> indaga sui tipi (se ne faccio tanti di fila me ne fa vedere solo uno)\n",
    "- {} definiscono blocchi di codice o oggetti"
   ]
  },
  {
   "cell_type": "code",
   "execution_count": 19,
   "metadata": {},
   "outputs": [
    {
     "data": {
      "text/plain": [
       "\u001b[32m\"object\"\u001b[39m"
      ]
     },
     "execution_count": 19,
     "metadata": {},
     "output_type": "execute_result"
    }
   ],
   "source": [
    "typeof 123;\n",
    "typeof \"hello\";\n",
    "typeof true;\n",
    "typeof [];\n",
    "typeof {};"
   ]
  }
 ],
 "metadata": {
  "kernelspec": {
   "display_name": "Deno",
   "language": "typescript",
   "name": "deno"
  },
  "language_info": {
   "file_extension": ".ts",
   "mimetype": "text/x.typescript",
   "name": "typescript",
   "nb_converter": "script",
   "pygments_lexer": "typescript",
   "version": "5.3.3"
  }
 },
 "nbformat": 4,
 "nbformat_minor": 4
}
