{
 "cells": [
  {
   "cell_type": "code",
   "execution_count": null,
   "metadata": {},
   "outputs": [
    {
     "name": "stdout",
     "output_type": "stream",
     "text": [
      "Hello, World!\n"
     ]
    }
   ],
   "source": [
    "console.log('Hello, World!');"
   ]
  },
  {
   "attachments": {},
   "cell_type": "markdown",
   "metadata": {},
   "source": [
    "#### Esempio di come si comportano i tipi di dato primitivo"
   ]
  },
  {
   "attachments": {},
   "cell_type": "markdown",
   "metadata": {},
   "source": [
    "- console.log --> sout in Java\n",
    "- .slice --> prende solo la parte che mi interessa\n",
    "tipi:\n",
    "- let --> String"
   ]
  },
  {
   "cell_type": "code",
   "execution_count": null,
   "metadata": {},
   "outputs": [
    {
     "name": "stdout",
     "output_type": "stream",
     "text": [
      "31\n",
      "30\n",
      "Hello\n",
      "Hell\n"
     ]
    }
   ],
   "source": [
    "{\n",
    "    let age = 30;\n",
    "    let age1 = age;\n",
    "    age = 31;\n",
    "    console.log(age);\n",
    "    console.log(age1);\n",
    "\n",
    "    let immutable = \"Hello\";\n",
    "    let copy = immutable.slice(0, 4);\n",
    "    console.log(immutable);\n",
    "    console.log(copy);\n",
    "}"
   ]
  },
  {
   "attachments": {},
   "cell_type": "markdown",
   "metadata": {},
   "source": [
    "- typeof --> indaga sui tipi (se ne faccio tanti di fila me ne fa vedere solo uno)\n",
    "- {} definiscono blocchi di codice o oggetti"
   ]
  },
  {
   "cell_type": "code",
   "execution_count": null,
   "metadata": {},
   "outputs": [
    {
     "data": {
      "text/plain": [
       "\u001b[32m\"object\"\u001b[39m"
      ]
     },
     "execution_count": 19,
     "metadata": {},
     "output_type": "execute_result"
    }
   ],
   "source": [
    "typeof 123;\n",
    "typeof \"hello\";\n",
    "typeof true;\n",
    "typeof [];\n",
    "typeof {};"
   ]
  },
  {
   "cell_type": "code",
   "execution_count": 2,
   "metadata": {},
   "outputs": [
    {
     "ename": "TypeError",
     "evalue": "Cannot set properties of undefined (setting 'Age')",
     "output_type": "error",
     "traceback": [
      "Stack trace:",
      "TypeError: Cannot set properties of undefined (setting 'Age')",
      "    at <anonymous>:6:11"
     ]
    }
   ],
   "source": [
    "let info ;{\n",
    "    Name:'ABC';\n",
    "    Age: 10\n",
    "};\n",
    "let info1 = info;\n",
    "info1.Age = 14;"
   ]
  },
  {
   "attachments": {},
   "cell_type": "markdown",
   "metadata": {},
   "source": [
    "- Il numero più grande = Number.MAX_VALUE\n",
    "- il numero più piccolo = Number.MIN_VALUE\n",
    "\n",
    "Esistono anche i valori Infinity e -Infinity\n"
   ]
  },
  {
   "cell_type": "code",
   "execution_count": 3,
   "metadata": {},
   "outputs": [
    {
     "name": "stdout",
     "output_type": "stream",
     "text": [
      "0.30000000000000004\n",
      "false\n"
     ]
    }
   ],
   "source": [
    "console.log(0.1 + 0.2); //risultato che ci aspettiamo = 0.3\n",
    "console.log(0.1 + 0.2 == 0.3);  //false"
   ]
  },
  {
   "attachments": {},
   "cell_type": "markdown",
   "metadata": {},
   "source": [
    "trasforma i  numeri in numeri binari e poi fa la somma"
   ]
  },
  {
   "cell_type": "code",
   "execution_count": 4,
   "metadata": {},
   "outputs": [
    {
     "name": "stdout",
     "output_type": "stream",
     "text": [
      "55\n"
     ]
    }
   ],
   "source": [
    "console.log(5 + '5');   //Output: \"55\" e non 10"
   ]
  },
  {
   "attachments": {},
   "cell_type": "markdown",
   "metadata": {},
   "source": [
    "si può fare la somma tra un numero ed una stringa, ma viene 55"
   ]
  },
  {
   "cell_type": "code",
   "execution_count": 5,
   "metadata": {},
   "outputs": [
    {
     "name": "stdout",
     "output_type": "stream",
     "text": [
      "HELLO, WORLD!\n",
      "HELLO, WORLD!\n",
      "123.46\n",
      "123.46\n",
      "true\n",
      "true\n"
     ]
    }
   ],
   "source": [
    "let myString = \"Hello, World!\";\n",
    "console.log(myString.toUpperCase());    //\"HELLO, WORLD!\"\n",
    "//Dietro le quinte, JavaScript fa qualcosa simile a:\n",
    "console.log(new String(myString).toUpperCase());\n",
    "\n",
    "let myNumber = 123.456;\n",
    "console.log(myNumber.toFixed(2));   //\"123.46\"\n",
    "//dietro le quinte...\n",
    "console.log(new Number(myNumber).toFixed(2));\n",
    "\n",
    "let myBool = true;\n",
    "console.log(myBool.toString());     //\"true\"\n",
    "//dietro le quinte...\n",
    "console.log(new Boolean(myBool).toString());"
   ]
  },
  {
   "attachments": {},
   "cell_type": "markdown",
   "metadata": {},
   "source": [
    "Valori Truthy e Falsy:\n",
    "trsformo i valori in booleani: se vengono trasformati in un valore vero diventano Truthy, se no Falsy.\n",
    "\n",
    "Valori Falsy:\n",
    "- 0 (numero zero)\n",
    "- \"\" (stringa vuota)\n",
    "- null\n",
    "- undefined\n",
    "- NaN\n",
    "\n",
    "Valori Truthy:\n",
    "- \"0\" (stringa con singolo carattere)\n",
    "- \" \" (stringa con spazio)\n",
    "- [] (array vuoto)\n",
    "- {} (oggetto vuoto)\n",
    "- 1 (numeri diversi da 0)\n",
    "\"false\" (stringhe non vuote)\n",
    "```javascript\n",
    "console.log(typeof [1, 2, 3]);      //\"object\"\n",
    "console.log(Array.isArray([1, 2, 3]));      //true"
   ]
  },
  {
   "attachments": {},
   "cell_type": "markdown",
   "metadata": {},
   "source": [
    "# Funzioni in JavaScript\n",
    "le funzioni in JS sono oggetti di prima classe, cioè possono essere passate come argomenti, assegnate a variabili e restituite da altre funzioni.\n",
    "\n",
    "Esistono due modi per definire una funzione in JS:\n",
    "\n",
    "- Dichiarazione/Istruzione di funzione\n",
    "- Espressione di funzione   (due modi)\n",
    "\n",
    "## dichiarazione di funzione\n",
    "\n",
    "```javascript\n",
    "function nomeFunzione(parametro1, parametro2) {\n",
    "    return a + b;\n",
    "}\n",
    "function add(a: Number, b: Number): Number {\n",
    "    return a+b;\n",
    "}\n",
    "\n",
    "//Arrow function\n",
    "const nomeFunzione = (parametro1, parametro2) => {\n",
    "    return valoreDiRitorno;\n",
    "}\n",
    "\n",
    "const nomeFunzione = parametro => espressioneDiRitorno;\n",
    "\n",
    "```"
   ]
  },
  {
   "attachments": {},
   "cell_type": "markdown",
   "metadata": {},
   "source": [
    "Array:\n",
    "sono oggetti con funzionalità specifiche:\n",
    "- lenght\n",
    "- push()\n",
    "- pop()\n",
    "\n",
    "    operatori tipici:\n",
    "- map() --> prende un valore della seguenza e prende una funzione che li passiamo e lo mette in un'altra seguenza (vedi su drive)\n",
    "- filter()\n",
    "- reduce() --> riduce una sequenza ad un valore (es. quando devo fare una media)\n",
    "- slice()\n",
    "\n",
    "Syntactic Sugar:\n",
    "array dichiarati con []:\n",
    "- let myArray = [1, 2, 3];\n",
    "- let myArray = new Array(1, 2, 3);\n",
    "\n",
    "```javascript\n",
    "let arr = [1, 2, 3, 4, 5];\n",
    "console.log(arr.length);    //outyput: 5"
   ]
  },
  {
   "attachments": {},
   "cell_type": "markdown",
   "metadata": {},
   "source": [
    "### Funzioni Lamda (Arrow)\n",
    "\n",
    "```javascript\n",
    "let arr = [1, 2, 3, 4, 5];\n",
    "let squares = arr.map(x => x*x);\n",
    "console.log(squares);   //output: [2, 4]"
   ]
  },
  {
   "attachments": {},
   "cell_type": "markdown",
   "metadata": {},
   "source": [
    "per ora(27/02) --> argomenti fino a pag 16:\n",
    "- MIN/MAX_VALUE, MIN/MAX_SAFE_INTEGER(senza perdita) e 0,1 + 0,2 != 0,3\n",
    "\n",
    "pag 10 --> rappresentazione mantissa\n",
    "numeri con esponente\n",
    "\n",
    "confronto con l'uguale (=):\n",
    "- doppio(==) --> provoca la type coercion\n",
    "- triplo(===) --> non lo provoca\n",
    "tipizzazione dinamica (in JavaScript): una variabile prende il tipo della variabile che gli viene segnata. Se lo si cambia non c'è problema.\n",
    "Type coercion: se sommo la Stringa \"1\" + 1;\n",
    "\n",
    "```javascript\n",
    "let numbers = [1, 2, 3, 4, 5];\n",
    "```\n",
    "usare reduce per sommare tutti gli elementi\n",
    "```javascript\n",
    "let sum = numbers.reduce((accumulator, currentValue) => accumulator + currentValue, 0);\n",
    "console.log(sum);   //output 15\n",
    "```"
   ]
  },
  {
   "attachments": {},
   "cell_type": "markdown",
   "metadata": {},
   "source": [
    "### Closure\n",
    "\n",
    "una closure è una funzione che cattura le variabili dall'ambiente circostante in cui è stata creata.\n",
    "\n",
    "```javascript\n",
    "function creaContenitore(){\n",
    "    let contatore = 0;\n",
    "    return function(){\n",
    "        return contatore++;\n",
    "    }\n",
    "}\n",
    "\n",
    "const contatore = creaContatore();\n",
    "\n",
    "console.log(contatore());//0\n",
    "console.log(contatore());//1\n",
    "\n",
    "function creaContenitore1(){\n",
    "    let contatore = 0;\n",
    "    return function(){\n",
    "        return contatore++;\n",
    "    }\n",
    "}\n",
    "```"
   ]
  },
  {
   "cell_type": "code",
   "execution_count": 1,
   "metadata": {},
   "outputs": [
    {
     "name": "stdout",
     "output_type": "stream",
     "text": [
      "0\n",
      "1\n",
      "0\n",
      "0\n",
      "1\n",
      "0\n",
      "1\n"
     ]
    }
   ],
   "source": [
    "function creaContatore(){\n",
    "    let contatore = 0;\n",
    "    return function(){\n",
    "        return contatore++;\n",
    "    };\n",
    "}\n",
    "\n",
    "const contatore = creaContatore();\n",
    "const contatore1 = creaContatore();\n",
    "const contatore2 = creaContatore();\n",
    "\n",
    "console.log(contatore());//0\n",
    "console.log(contatore());//1\n",
    "console.log(contatore1());//0\n",
    "console.log(contatore2());//0\n",
    "console.log(contatore1());//1\n",
    "\n",
    "function creaContatore1(){\n",
    "    let contatore = 0;\n",
    "    return function(){\n",
    "        return contatore++;\n",
    "    };\n",
    "}\n",
    "\n",
    "const constatore3 = creaContatore1();\n",
    "\n",
    "console.log(constatore3());//0\n",
    "console.log(constatore3());//0"
   ]
  },
  {
   "attachments": {},
   "cell_type": "markdown",
   "metadata": {},
   "source": [
    "## oggetti in JS\n",
    "\n",
    "gli oggetti in JS sono collezioni di coppie chiave-valore.\n",
    "\n",
    "```javascript\n",
    "const oggetto = {\n",
    "    <chiave1>: <valore1>,\n",
    "};\n",
    "```\n",
    "come chiave metto sempre stringhe, ma JS mi permette di togliere gli apici alle Stringhe\n",
    "\n",
    "### accesso ai valori\n",
    "\n",
    "```javascript\n",
    "\n",
    "console.log(oggetto.chiave1);\n",
    "console.log(oggetto['chiave1']);\n",
    "```\n",
    "come valore posso mettere tutto tranne \"undefined\".\n",
    "cosa comporta:\n",
    "- la struttura non è semplicemente piatta, ma è più complessa;\n"
   ]
  },
  {
   "cell_type": "code",
   "execution_count": 2,
   "metadata": {},
   "outputs": [
    {
     "name": "stdout",
     "output_type": "stream",
     "text": [
      "24000\n",
      "2880\n",
      "2\n"
     ]
    }
   ],
   "source": [
    "let numbers = [1, 2, 3, 4, 5];\n",
    "\n",
    "function multiplyTs(...args: number[]){\n",
    "    return args.reduce((a, b) => a*b);\n",
    "}\n",
    "function multiplyJs(){\n",
    "    return [...arguments].reduce((a, b) => a*b);\n",
    "}\n",
    "let numbersExtended = [...numbers, 2, 3, 4];\n",
    "console.log(multiplyTs(...numbers, 10, 20));\n",
    "console.log(multiplyJs(...numbersExtended));\n",
    "console.log(multiplyJs(2, 1, 1));"
   ]
  },
  {
   "cell_type": "code",
   "execution_count": 7,
   "metadata": {},
   "outputs": [
    {
     "name": "stdout",
     "output_type": "stream",
     "text": [
      "[ 1, 2, 3, 4, 5 ]\n",
      "false\n"
     ]
    }
   ],
   "source": [
    "function esempioArgomenti(a){\n",
    "    console.log(arguments);\n",
    "    console.log(arguments.length);\n",
    "}\n",
    "\n",
    "//esempioArgomenti(1, 2, 3, 4);\n",
    "\n",
    "const pippo = [1, 2, 3, 4, 5];\n",
    "const pluto = [...pippo];\n",
    "console.log(pluto);\n",
    "console.log(pippo === pluto);"
   ]
  },
  {
   "cell_type": "code",
   "execution_count": null,
   "metadata": {},
   "outputs": [],
   "source": [
    "let a, b, rest;\n",
    "const lista = [10, 20];\n",
    "a = lista[0];\n",
    "b = lista[1];\n",
    "\n",
    "const { c } = { c: 10, d: 20};\n",
    "console.log(c);"
   ]
  },
  {
   "cell_type": "code",
   "execution_count": null,
   "metadata": {},
   "outputs": [],
   "source": [
    "const oggetto = {\n",
    "    c : 10,\n",
    "    d: {\n",
    "        e: 20,\n",
    "        f: 30\n",
    "    }\n",
    "};\n",
    "\n",
    "const oggetto2 = {...oggetto};\n",
    "\n",
    "console.log"
   ]
  },
  {
   "cell_type": "code",
   "execution_count": 8,
   "metadata": {},
   "outputs": [
    {
     "name": "stdout",
     "output_type": "stream",
     "text": [
      "1\n",
      "2\n",
      "3\n",
      "4\n",
      "5\n"
     ]
    }
   ],
   "source": [
    "{\n",
    "    numbers = [1, 2, 3, 4, 5];\n",
    "\n",
    "    for ( let i = 0; i < numbers.length; i++) {\n",
    "        console.log(numbers[i]);\n",
    "    }\n",
    "}"
   ]
  },
  {
   "cell_type": "code",
   "execution_count": null,
   "metadata": {},
   "outputs": [],
   "source": [
    "{\n",
    "    const numbers = [1, 2, 3, 4, 5];\n",
    "\n",
    "    for (let i = 0; i < numbers.length; i++){\n",
    "\n",
    "    }\n",
    "\n",
    "    for(let number of numbers){\n",
    "\n",
    "    }\n",
    "}\n",
    "//non ho fatto inn tempo a copiare"
   ]
  }
 ],
 "metadata": {
  "kernelspec": {
   "display_name": "Deno",
   "language": "typescript",
   "name": "deno"
  },
  "language_info": {
   "file_extension": ".ts",
   "mimetype": "text/x.typescript",
   "name": "typescript",
   "nb_converter": "script",
   "pygments_lexer": "typescript",
   "version": "5.3.3"
  }
 },
 "nbformat": 4,
 "nbformat_minor": 4
}
